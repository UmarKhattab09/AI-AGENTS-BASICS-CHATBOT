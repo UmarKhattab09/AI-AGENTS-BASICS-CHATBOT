{
 "cells": [
  {
   "cell_type": "code",
   "execution_count": 87,
   "id": "0dbd491a",
   "metadata": {},
   "outputs": [
    {
     "name": "stdout",
     "output_type": "stream",
     "text": [
      "hellowworld\n"
     ]
    }
   ],
   "source": [
    "print(\"hellowworld\")"
   ]
  },
  {
   "cell_type": "markdown",
   "id": "92e6a9d8",
   "metadata": {},
   "source": [
    "### Build A BasicChat with LangGraph(Graph API)"
   ]
  },
  {
   "cell_type": "code",
   "execution_count": 88,
   "id": "d1c61c17",
   "metadata": {},
   "outputs": [],
   "source": [
    "from typing import Annotated\n",
    "from typing_extensions import TypedDict\n",
    "from langgraph.graph import StateGraph,START,END\n",
    "from langgraph.graph.message import add_messages"
   ]
  },
  {
   "cell_type": "code",
   "execution_count": 89,
   "id": "1d772079",
   "metadata": {},
   "outputs": [],
   "source": [
    "class State(TypedDict):\n",
    "    #---->  \n",
    "    messages:Annotated[list,add_messages] #---> add_messages= reducer. Append the messages instead of rewriting/overwriting them\n",
    "\n"
   ]
  },
  {
   "cell_type": "code",
   "execution_count": 90,
   "id": "d2668ddb",
   "metadata": {},
   "outputs": [
    {
     "data": {
      "text/plain": [
       "True"
      ]
     },
     "execution_count": 90,
     "metadata": {},
     "output_type": "execute_result"
    }
   ],
   "source": [
    "import os\n",
    "from dotenv import load_dotenv\n",
    "load_dotenv()"
   ]
  },
  {
   "cell_type": "code",
   "execution_count": 91,
   "id": "094e40ec",
   "metadata": {},
   "outputs": [],
   "source": [
    "from langchain_groq import ChatGroq\n",
    "from langchain.chat_models import init_chat_model\n",
    "#from langchain_openai ###---> Can use that aswell\n",
    "\n",
    "llm = ChatGroq(model=\"llama3-8b-8192\")"
   ]
  },
  {
   "cell_type": "code",
   "execution_count": 92,
   "id": "cf333b61",
   "metadata": {},
   "outputs": [
    {
     "data": {
      "text/plain": [
       "ChatGroq(client=<groq.resources.chat.completions.Completions object at 0x000002249D5EAEA0>, async_client=<groq.resources.chat.completions.AsyncCompletions object at 0x000002249D5EB6F0>, model_name='llama3-8b-8192', model_kwargs={}, groq_api_key=SecretStr('**********'))"
      ]
     },
     "execution_count": 92,
     "metadata": {},
     "output_type": "execute_result"
    }
   ],
   "source": [
    "llm = init_chat_model(\"groq:llama3-8b-8192\")\n",
    "llm"
   ]
  },
  {
   "cell_type": "code",
   "execution_count": 93,
   "id": "9174d86f",
   "metadata": {},
   "outputs": [],
   "source": [
    "#Node Functionality\n",
    "def chatbot(state:State):\n",
    "    return {\"messages\":[llm.invoke(state[\"messages\"])]} ###---> Statemessages is basically the input. It will also append in the class state"
   ]
  },
  {
   "cell_type": "code",
   "execution_count": 94,
   "id": "67f3aa83",
   "metadata": {},
   "outputs": [],
   "source": [
    "graph_builder = StateGraph(State)\n",
    "graph_builder.add_node(\"ChatBot\",chatbot)\n",
    "graph_builder.add_edge(START,\"ChatBot\")\n",
    "graph_builder.add_edge(\"ChatBot\",END)\n",
    "\n",
    "## Compile The Graph\n",
    "graph=graph_builder.compile()\n"
   ]
  },
  {
   "cell_type": "code",
   "execution_count": 95,
   "id": "a470fb75",
   "metadata": {},
   "outputs": [
    {
     "data": {
      "image/png": "[encoded data removed]",
      "text/plain": [
       "<IPython.core.display.Image object>"
      ]
     },
     "metadata": {},
     "output_type": "display_data"
    }
   ],
   "source": [
    "###---> Visualizing The Graph\n",
    "from IPython.display import Image,display\n",
    "try:\n",
    "    display(Image(graph.get_graph().draw_mermaid_png()))\n",
    "except Exception:\n",
    "    pass"
   ]
  },
  {
   "cell_type": "code",
   "execution_count": 96,
   "id": "9472ddaa",
   "metadata": {},
   "outputs": [],
   "source": [
    "response =  graph.invoke({\"messages\":\"Hi\"})"
   ]
  },
  {
   "cell_type": "code",
   "execution_count": 97,
   "id": "c7a8c419",
   "metadata": {},
   "outputs": [
    {
     "data": {
      "text/plain": [
       "\"Hi! It's nice to meet you. Is there something I can help you with or would you like to chat?\""
      ]
     },
     "execution_count": 97,
     "metadata": {},
     "output_type": "execute_result"
    }
   ],
   "source": [
    "response[\"messages\"][-1].content"
   ]
  },
  {
   "cell_type": "code",
   "execution_count": 98,
   "id": "236bc333",
   "metadata": {},
   "outputs": [
    {
     "name": "stdout",
     "output_type": "stream",
     "text": [
      "{'ChatBot': {'messages': [AIMessage(content=\"I'm just a language model, so I don't have feelings like humans do, but I'm functioning properly and ready to help with any questions or tasks you have! It's great to chat with you. How can I assist you today?\", additional_kwargs={}, response_metadata={'token_usage': {'completion_tokens': 50, 'prompt_tokens': 15, 'total_tokens': 65, 'completion_time': 0.078407014, 'prompt_time': 0.004407925, 'queue_time': 0.06431244, 'total_time': 0.082814939}, 'model_name': 'llama3-8b-8192', 'system_fingerprint': 'fp_8af39bf2ae', 'finish_reason': 'stop', 'logprobs': None}, id='run--d04a204b-4e66-4688-b73f-2864ffc39445-0', usage_metadata={'input_tokens': 15, 'output_tokens': 50, 'total_tokens': 65})]}}\n"
     ]
    }
   ],
   "source": [
    "for event in graph.stream({\"messages\":\"Hi How are you?\"}):\n",
    "    print(event)\n"
   ]
  },
  {
   "cell_type": "code",
   "execution_count": 99,
   "id": "9724e302",
   "metadata": {},
   "outputs": [
    {
     "name": "stdout",
     "output_type": "stream",
     "text": [
      "I'm just a language model, I don't have emotions or feelings like humans do, but I'm functioning properly and ready to help with any questions or tasks you have! How can I assist you today?\n"
     ]
    }
   ],
   "source": [
    "for event in graph.stream({\"messages\":\"Hi How are you?\"}):\n",
    "    for value in event.values():\n",
    "        print(value[\"messages\"][-1].content)\n"
   ]
  },
  {
   "cell_type": "code",
   "execution_count": 100,
   "id": "d463765a",
   "metadata": {},
   "outputs": [],
   "source": [
    "from langchain_tavily import TavilySearch\n",
    "tool = TavilySearch(max_results=2)"
   ]
  },
  {
   "cell_type": "code",
   "execution_count": 101,
   "id": "76155b4a",
   "metadata": {},
   "outputs": [
    {
     "data": {
      "text/plain": [
       "{'query': 'What is Langraph',\n",
       " 'follow_up_questions': None,\n",
       " 'answer': None,\n",
       " 'images': [],\n",
       " 'results': [{'title': 'What is LangGraph? - GeeksforGeeks',\n",
       "   'url': 'https://www.geeksforgeeks.org/machine-learning/what-is-langgraph/',\n",
       "   'content': 'LangGraph is a Python library that helps you build applications like chatbots or AI agents by organizing their logic step-by-step using state machine model. This step configures your Gemini API key and then we create a simple function ask_gemini that takes user input, sends it to the Gemini model and returns the AI-generated response. Creates a state structure with three fields: question, classification and response which flows through the LangGraph. import matplotlib.pyplot as plt from langgraph.graph import StateGraph\\u200bbuilder = StateGraph(GraphState)builder.add_node(\"classify\", classify)builder.add_node(\"respond\", respond)builder.set_entry_point(\"classify\")builder.add_edge(\"classify\", \"respond\")builder.set_finish_point(\"respond\")app = builder.compile()\\u200bdef visualize_workflow(builder): G = nx.DiGraph()\\u200b for node in builder.nodes: G.add_node(node) for edge in builder.edges: G.add_edge(edge[0], edge[1])\\u200b pos = nx.spring_layout(G) nx.draw(G, pos, with_labels=True, node_size=3000, node_color=\"skyblue\", font_size=12, font_weight=\"bold\", arrows=True)  plt.title(\"Langchain Workflow Visualization\") plt.show()\\u200bvisualize_workflow(builder)',\n",
       "   'score': 0.76300776,\n",
       "   'raw_content': None},\n",
       "  {'title': 'LangGraph - LangChain',\n",
       "   'url': 'https://www.langchain.com/langgraph',\n",
       "   'content': \"Design agent-driven user experiences with LangGraph Platform's APIs. Quickly deploy and scale your application with infrastructure built for agents. LangGraph sets the foundation for how we can build and scale AI workloads — from conversational agents, complex task automation, to custom LLM-backed experiences that 'just work'. The next chapter in building complex production-ready features with LLMs is agentic, and with LangGraph and LangSmith, LangChain delivers an out-of-the-box solution to iterate quickly, debug immediately, and scale effortlessly.” LangGraph sets the foundation for how we can build and scale AI workloads — from conversational agents, complex task automation, to custom LLM-backed experiences that 'just work'. LangGraph Platform is a service for deploying and scaling LangGraph applications, with an opinionated API for building agent UXs, plus an integrated developer studio.\",\n",
       "   'score': 0.709684,\n",
       "   'raw_content': None}],\n",
       " 'response_time': 1.37}"
      ]
     },
     "execution_count": 101,
     "metadata": {},
     "output_type": "execute_result"
    }
   ],
   "source": [
    "tool.invoke(\"What is Langraph\")"
   ]
  },
  {
   "cell_type": "code",
   "execution_count": 102,
   "id": "ef19e8fa",
   "metadata": {},
   "outputs": [],
   "source": [
    "## Custom function\n",
    "def multiply(a:int,b:int)->int:\n",
    "    \"\"\"Multiply a and b\n",
    "\n",
    "    Args:\n",
    "        a (int): first int\n",
    "        b (int): second int\n",
    "\n",
    "    Returns:\n",
    "        int: output int\n",
    "    \"\"\"\n",
    "    return a*b"
   ]
  },
  {
   "cell_type": "code",
   "execution_count": 103,
   "id": "0431c3f6",
   "metadata": {},
   "outputs": [
    {
     "data": {
      "text/plain": [
       "RunnableBinding(bound=ChatGroq(client=<groq.resources.chat.completions.Completions object at 0x000002249D5EAEA0>, async_client=<groq.resources.chat.completions.AsyncCompletions object at 0x000002249D5EB6F0>, model_name='llama3-8b-8192', model_kwargs={}, groq_api_key=SecretStr('**********')), kwargs={'tools': [{'type': 'function', 'function': {'name': 'tavily_search', 'description': 'A search engine optimized for comprehensive, accurate, and trusted results. Useful for when you need to answer questions about current events. It not only retrieves URLs and snippets, but offers advanced search depths, domain management, time range filters, and image search, this tool delivers real-time, accurate, and citation-backed results.Input should be a search query.', 'parameters': {'properties': {'query': {'description': 'Search query to look up', 'type': 'string'}, 'include_domains': {'anyOf': [{'items': {'type': 'string'}, 'type': 'array'}, {'type': 'null'}], 'default': [], 'description': 'A list of domains to restrict search results to.\\n\\n        Use this parameter when:\\n        1. The user explicitly requests information from specific websites (e.g., \"Find climate data from nasa.gov\")\\n        2. The user mentions an organization or company without specifying the domain (e.g., \"Find information about iPhones from Apple\")\\n\\n        In both cases, you should determine the appropriate domains (e.g., [\"nasa.gov\"] or [\"apple.com\"]) and set this parameter.\\n\\n        Results will ONLY come from the specified domains - no other sources will be included.\\n        Default is None (no domain restriction).\\n        '}, 'exclude_domains': {'anyOf': [{'items': {'type': 'string'}, 'type': 'array'}, {'type': 'null'}], 'default': [], 'description': 'A list of domains to exclude from search results.\\n\\n        Use this parameter when:\\n        1. The user explicitly requests to avoid certain websites (e.g., \"Find information about climate change but not from twitter.com\")\\n        2. The user mentions not wanting results from specific organizations without naming the domain (e.g., \"Find phone reviews but nothing from Apple\")\\n\\n        In both cases, you should determine the appropriate domains to exclude (e.g., [\"twitter.com\"] or [\"apple.com\"]) and set this parameter.\\n\\n        Results will filter out all content from the specified domains.\\n        Default is None (no domain exclusion).\\n        '}, 'search_depth': {'anyOf': [{'enum': ['basic', 'advanced'], 'type': 'string'}, {'type': 'null'}], 'default': 'basic', 'description': 'Controls search thoroughness and result comprehensiveness.\\n    \\n        Use \"basic\" for simple queries requiring quick, straightforward answers.\\n        \\n        Use \"advanced\" (default) for complex queries, specialized topics, \\n        rare information, or when in-depth analysis is needed.\\n        '}, 'include_images': {'anyOf': [{'type': 'boolean'}, {'type': 'null'}], 'default': False, 'description': 'Determines if the search returns relevant images along with text results.\\n   \\n        Set to True when the user explicitly requests visuals or when images would \\n        significantly enhance understanding (e.g., \"Show me what black holes look like,\" \\n        \"Find pictures of Renaissance art\").\\n        \\n        Leave as False (default) for most informational queries where text is sufficient.\\n        '}, 'time_range': {'anyOf': [{'enum': ['day', 'week', 'month', 'year'], 'type': 'string'}, {'type': 'null'}], 'default': None, 'description': 'Limits results to content published within a specific timeframe.\\n        \\n        ONLY set this when the user explicitly mentions a time period \\n        (e.g., \"latest AI news,\" \"articles from last week\").\\n        \\n        For less popular or niche topics, use broader time ranges \\n        (\"month\" or \"year\") to ensure sufficient relevant results.\\n   \\n        Options: \"day\" (24h), \"week\" (7d), \"month\" (30d), \"year\" (365d).\\n        \\n        Default is None.\\n        '}, 'topic': {'anyOf': [{'enum': ['general', 'news', 'finance'], 'type': 'string'}, {'type': 'null'}], 'default': 'general', 'description': 'Specifies search category for optimized results.\\n   \\n        Use \"general\" (default) for most queries, INCLUDING those with terms like \\n        \"latest,\" \"newest,\" or \"recent\" when referring to general information.\\n\\n        Use \"finance\" for markets, investments, economic data, or financial news.\\n\\n        Use \"news\" ONLY for politics, sports, or major current events covered by \\n        mainstream media - NOT simply because a query asks for \"new\" information.\\n        '}}, 'required': ['query'], 'type': 'object'}}}, {'type': 'function', 'function': {'name': 'multiply', 'description': 'Multiply a and b', 'parameters': {'properties': {'a': {'description': 'first int', 'type': 'integer'}, 'b': {'description': 'second int', 'type': 'integer'}}, 'required': ['a', 'b'], 'type': 'object'}}}]}, config={}, config_factories=[])"
      ]
     },
     "execution_count": 103,
     "metadata": {},
     "output_type": "execute_result"
    }
   ],
   "source": [
    "tools=[tool,multiply]\n",
    "llm_with_tool=llm.bind_tools(tools)\n",
    "llm_with_tool\n",
    "\n"
   ]
  },
  {
   "cell_type": "code",
   "execution_count": 104,
   "id": "9d43789d",
   "metadata": {},
   "outputs": [],
   "source": [
    "## StateGraph\n",
    "from langgraph.graph import StateGraph,START,END\n",
    "from langgraph.prebuilt import ToolNode"
   ]
  },
  {
   "cell_type": "code",
   "execution_count": 105,
   "id": "0cb6c710",
   "metadata": {},
   "outputs": [],
   "source": [
    "from langgraph.prebuilt import tools_condition\n",
    "#Node Definitoin\n",
    "def tool_calling_llm(state:State):\n",
    "    return {\"messages\":[llm_with_tool.invoke(state[\"messages\"])]}\n",
    "\n",
    "graph_builder = StateGraph(State)\n",
    "graph_builder.add_node(\"LLMTOOLS\",tool_calling_llm)\n",
    "graph_builder.add_node(\"tools\",ToolNode(tools))\n",
    "graph_builder.add_edge(START,\"LLMTOOLS\")\n",
    "\n",
    "graph_builder.add_conditional_edges(\n",
    "    \"LLMTOOLS\",\n",
    "    tools_condition\n",
    ")\n",
    "graph_builder.add_edge(\"tools\",END)\n",
    "\n",
    "## Compile The Graph\n",
    "graph=graph_builder.compile()"
   ]
  },
  {
   "cell_type": "code",
   "execution_count": 106,
   "id": "a3eeb189",
   "metadata": {},
   "outputs": [
    {
     "data": {
      "image/png": "[encoded data removed]",
      "text/plain": [
       "<IPython.core.display.Image object>"
      ]
     },
     "metadata": {},
     "output_type": "display_data"
    }
   ],
   "source": [
    "###---> Visualizing The Graph\n",
    "from IPython.display import Image,display\n",
    "try:\n",
    "    display(Image(graph.get_graph().draw_mermaid_png()))\n",
    "except Exception:\n",
    "    pass"
   ]
  },
  {
   "cell_type": "code",
   "execution_count": 107,
   "id": "3f5d9048",
   "metadata": {},
   "outputs": [],
   "source": [
    "response=graph.invoke({\"messages\":\"What is the recent AI NEWS\"})"
   ]
  },
  {
   "cell_type": "code",
   "execution_count": 108,
   "id": "87c5cc35",
   "metadata": {},
   "outputs": [
    {
     "data": {
      "text/plain": [
       "'{\"query\": \"recent AI news\", \"follow_up_questions\": null, \"answer\": null, \"images\": [], \"results\": [{\"url\": \"https://www.sciencedaily.com/releases/2025/06/250622030429.htm\", \"title\": \"Half of today’s jobs could vanish—Here’s how smart countries are future-proofing workers - ScienceDaily\", \"score\": 0.72768575, \"published_date\": \"Sun, 22 Jun 2025 13:58:28 GMT\", \"content\": \"Date:June 22, 2025 Source:University of Georgia Summary:AI is revolutionizing the job landscape, prompting nations worldwide to prepare their workforces for dramatic changes. A University of Georgia study evaluated 50 countries’ national AI strategies and found significant differences in how governments prioritize education and workforce training. While many jobs could disappear in the coming decades, new careers requiring advanced AI skills are emerging. Countries like Germany and Spain are [...] Nov. 20, 2023 — Generative AI (e.g., ChatGPT) has propelled AI into the mainstream, raising concerns about job displacement and creative work. Experts now emphasize a need to focus on \\'co-creativity,\\' the ... \\\\n\\\\nExposure to Diverse Career Paths Can Help Fill Labor Market \\'Skills Gap\\'\\\\n\\\\nFeb. 26, 2021 — When Patrick Rottinghaus began college, he had no idea what he wanted to do with his career. He started out as an \\\\\"Open\\\\\" major while he explored possibilities. Today, he is helping young ...\", \"raw_content\": null}, {\"url\": \"https://news.faharas.net/341518/linkedin-ceo-says-ai-writing/\", \"title\": \"LinkedIn CEO Reveals AI Writing Assistant\\'s Surprising Struggles in Popularity and Adoption - Faharas News\", \"score\": 0.68571854, \"published_date\": \"Sun, 22 Jun 2025 15:50:16 GMT\", \"content\": \"LinkedIn’s recent embrace of AI technology has sparked discussions about its effectiveness, especially concerning AI-generated post suggestions. CEO Ryan Roslansky revealed on June 22, 2025, that these features haven’t gained the traction he anticipated.\\\\n\\\\n6 Key Takeaways\", \"raw_content\": null}], \"response_time\": 1.47}'"
      ]
     },
     "execution_count": 108,
     "metadata": {},
     "output_type": "execute_result"
    }
   ],
   "source": [
    "response[\"messages\"][-1].content"
   ]
  },
  {
   "cell_type": "code",
   "execution_count": 109,
   "id": "ea988ca0",
   "metadata": {},
   "outputs": [
    {
     "name": "stdout",
     "output_type": "stream",
     "text": [
      "================================\u001b[1m Human Message \u001b[0m=================================\n",
      "\n",
      "What is the recent AI NEWS\n",
      "==================================\u001b[1m Ai Message \u001b[0m==================================\n",
      "Tool Calls:\n",
      "  tavily_search (s70a272y8)\n",
      " Call ID: s70a272y8\n",
      "  Args:\n",
      "    query: recent AI news\n",
      "    search_depth: advanced\n",
      "    time_range: day\n",
      "    topic: news\n",
      "=================================\u001b[1m Tool Message \u001b[0m=================================\n",
      "Name: tavily_search\n",
      "\n",
      "{\"query\": \"recent AI news\", \"follow_up_questions\": null, \"answer\": null, \"images\": [], \"results\": [{\"url\": \"https://www.sciencedaily.com/releases/2025/06/250622030429.htm\", \"title\": \"Half of today’s jobs could vanish—Here’s how smart countries are future-proofing workers - ScienceDaily\", \"score\": 0.72768575, \"published_date\": \"Sun, 22 Jun 2025 13:58:28 GMT\", \"content\": \"Date:June 22, 2025 Source:University of Georgia Summary:AI is revolutionizing the job landscape, prompting nations worldwide to prepare their workforces for dramatic changes. A University of Georgia study evaluated 50 countries’ national AI strategies and found significant differences in how governments prioritize education and workforce training. While many jobs could disappear in the coming decades, new careers requiring advanced AI skills are emerging. Countries like Germany and Spain are [...] Nov. 20, 2023 — Generative AI (e.g., ChatGPT) has propelled AI into the mainstream, raising concerns about job displacement and creative work. Experts now emphasize a need to focus on 'co-creativity,' the ... \\n\\nExposure to Diverse Career Paths Can Help Fill Labor Market 'Skills Gap'\\n\\nFeb. 26, 2021 — When Patrick Rottinghaus began college, he had no idea what he wanted to do with his career. He started out as an \\\"Open\\\" major while he explored possibilities. Today, he is helping young ...\", \"raw_content\": null}, {\"url\": \"https://news.faharas.net/341518/linkedin-ceo-says-ai-writing/\", \"title\": \"LinkedIn CEO Reveals AI Writing Assistant's Surprising Struggles in Popularity and Adoption - Faharas News\", \"score\": 0.68571854, \"published_date\": \"Sun, 22 Jun 2025 15:50:16 GMT\", \"content\": \"LinkedIn’s recent embrace of AI technology has sparked discussions about its effectiveness, especially concerning AI-generated post suggestions. CEO Ryan Roslansky revealed on June 22, 2025, that these features haven’t gained the traction he anticipated.\\n\\n6 Key Takeaways\", \"raw_content\": null}], \"response_time\": 1.47}\n"
     ]
    }
   ],
   "source": [
    "for m in response[\"messages\"]:\n",
    "    m.pretty_print()"
   ]
  },
  {
   "cell_type": "code",
   "execution_count": 110,
   "id": "3777b92d",
   "metadata": {},
   "outputs": [
    {
     "name": "stdout",
     "output_type": "stream",
     "text": [
      "================================\u001b[1m Human Message \u001b[0m=================================\n",
      "\n",
      "What is 2 multiplyed by 3\n",
      "==================================\u001b[1m Ai Message \u001b[0m==================================\n",
      "Tool Calls:\n",
      "  multiply (736t3m9hy)\n",
      " Call ID: 736t3m9hy\n",
      "  Args:\n",
      "    a: 2\n",
      "    b: 3\n",
      "=================================\u001b[1m Tool Message \u001b[0m=================================\n",
      "Name: multiply\n",
      "\n",
      "6\n"
     ]
    }
   ],
   "source": [
    "response=graph.invoke({\"messages\":\"What is 2 multiplyed by 3\"})\n",
    "for m in response[\"messages\"]:\n",
    "    m.pretty_print()"
   ]
  },
  {
   "cell_type": "code",
   "execution_count": 111,
   "id": "1d850c05",
   "metadata": {},
   "outputs": [
    {
     "name": "stdout",
     "output_type": "stream",
     "text": [
      "================================\u001b[1m Human Message \u001b[0m=================================\n",
      "\n",
      "Give me recent ai NEWS and then  multiplyed 5 by  10\n",
      "==================================\u001b[1m Ai Message \u001b[0m==================================\n",
      "Tool Calls:\n",
      "  tavily_search (2fjx1by3h)\n",
      " Call ID: 2fjx1by3h\n",
      "  Args:\n",
      "    query: recent ai news\n",
      "    search_depth: advanced\n",
      "    time_range: day\n",
      "    topic: news\n",
      "  multiply (3c3b89n1j)\n",
      " Call ID: 3c3b89n1j\n",
      "  Args:\n",
      "    a: 5\n",
      "    b: 10\n",
      "=================================\u001b[1m Tool Message \u001b[0m=================================\n",
      "Name: tavily_search\n",
      "\n",
      "{\"query\": \"recent ai news\", \"follow_up_questions\": null, \"answer\": null, \"images\": [], \"results\": [{\"url\": \"https://www.sciencedaily.com/releases/2025/06/250622030429.htm\", \"title\": \"Half of today’s jobs could vanish—Here’s how smart countries are future-proofing workers - ScienceDaily\", \"score\": 0.73891455, \"published_date\": \"Sun, 22 Jun 2025 13:58:28 GMT\", \"content\": \"Date:June 22, 2025 Source:University of Georgia Summary:AI is revolutionizing the job landscape, prompting nations worldwide to prepare their workforces for dramatic changes. A University of Georgia study evaluated 50 countries’ national AI strategies and found significant differences in how governments prioritize education and workforce training. While many jobs could disappear in the coming decades, new careers requiring advanced AI skills are emerging. Countries like Germany and Spain are [...] Nov. 20, 2023 — Generative AI (e.g., ChatGPT) has propelled AI into the mainstream, raising concerns about job displacement and creative work. Experts now emphasize a need to focus on 'co-creativity,' the ... \\n\\nExposure to Diverse Career Paths Can Help Fill Labor Market 'Skills Gap'\\n\\nFeb. 26, 2021 — When Patrick Rottinghaus began college, he had no idea what he wanted to do with his career. He started out as an \\\"Open\\\" major while he explored possibilities. Today, he is helping young ...\", \"raw_content\": null}, {\"url\": \"https://news.faharas.net/341518/linkedin-ceo-says-ai-writing/\", \"title\": \"LinkedIn CEO Reveals AI Writing Assistant's Surprising Struggles in Popularity and Adoption - Faharas News\", \"score\": 0.7038554, \"published_date\": \"Sun, 22 Jun 2025 15:50:16 GMT\", \"content\": \"LinkedIn’s recent embrace of AI technology has sparked discussions about its effectiveness, especially concerning AI-generated post suggestions. CEO Ryan Roslansky revealed on June 22, 2025, that these features haven’t gained the traction he anticipated.\\n\\n6 Key Takeaways\", \"raw_content\": null}], \"response_time\": 1.14}\n",
      "=================================\u001b[1m Tool Message \u001b[0m=================================\n",
      "Name: multiply\n",
      "\n",
      "50\n"
     ]
    }
   ],
   "source": [
    "response=graph.invoke({\"messages\":\"Give me recent ai NEWS and then  multiplyed 5 by  10\"})\n",
    "for m in response[\"messages\"]:\n",
    "    m.pretty_print()"
   ]
  },
  {
   "cell_type": "code",
   "execution_count": 149,
   "id": "ff85d65e",
   "metadata": {},
   "outputs": [],
   "source": [
    "from langgraph.prebuilt import tools_condition\n",
    "#Node Definitoin\n",
    "def tool_calling_llm(state:State):\n",
    "    return {\"messages\":[llm_with_tool.invoke(state[\"messages\"])]}\n",
    "\n",
    "builder = StateGraph(State)\n",
    "builder.add_node(\"tool_calling_llms\",tool_calling_llm)\n",
    "builder.add_node(\"tools\",ToolNode(tools))\n",
    "builder.add_edge(START,\"tool_calling_llms\")\n",
    "\n",
    "builder.add_conditional_edges(\n",
    "    \"tool_calling_llms\",\n",
    "    tools_condition\n",
    ")\n",
    "builder.add_edge(\"tools\",\"tool_calling_llms\")\n",
    "graph=builder.compile()\n",
    "\n",
    "\n"
   ]
  },
  {
   "cell_type": "code",
   "execution_count": 150,
   "id": "ce006122",
   "metadata": {},
   "outputs": [
    {
     "data": {
      "image/png": "[encoded data removed]",
      "text/plain": [
       "<IPython.core.display.Image object>"
      ]
     },
     "metadata": {},
     "output_type": "display_data"
    }
   ],
   "source": [
    "## Compile The Graph\n",
    "\n",
    "###---> Visualizing The Graph\n",
    "from IPython.display import Image,display\n",
    "try:\n",
    "    display(Image(graph.get_graph().draw_mermaid_png()))\n",
    "except Exception:\n",
    "    pass"
   ]
  },
  {
   "cell_type": "code",
   "execution_count": 151,
   "id": "f0195db8",
   "metadata": {},
   "outputs": [
    {
     "name": "stdout",
     "output_type": "stream",
     "text": [
      "================================\u001b[1m Human Message \u001b[0m=================================\n",
      "\n",
      "Give me the recent ai news also What is 2 multiplyed by 3\n",
      "==================================\u001b[1m Ai Message \u001b[0m==================================\n",
      "Tool Calls:\n",
      "  tavily_search (1zztgn81z)\n",
      " Call ID: 1zztgn81z\n",
      "  Args:\n",
      "    query: recent ai news\n",
      "    time_range: day\n",
      "    topic: news\n",
      "  multiply (29yhq5x3s)\n",
      " Call ID: 29yhq5x3s\n",
      "  Args:\n",
      "    a: 2\n",
      "    b: 3\n",
      "=================================\u001b[1m Tool Message \u001b[0m=================================\n",
      "Name: tavily_search\n",
      "\n",
      "{\"query\": \"recent ai news\", \"follow_up_questions\": null, \"answer\": null, \"images\": [], \"results\": [{\"url\": \"https://gizmodo.com/the-14-billion-ai-google-killer-2000618755\", \"title\": \"The $14 Billion AI Google Killer - Gizmodo\", \"score\": 0.604703, \"published_date\": \"Sun, 22 Jun 2025 15:25:16 GMT\", \"content\": \"*   Image 6: Ai ModeTech News Gadgets Google’s New AI Mode for Search Cranks Gemini to Max Volume ----------------------------------------------------------- If you want the maximum amount of AI in your web search, Google's got your back. The $14 Billion AI Google Killer 6/22/2025, 11:25 am Image 18: A phone showing the Google search screen against a dark backdrop.‘Tron: Ares’ is Disney’s Big Hall H Movie for San Diego Comic-Con 6/22/2025, 10:30 am Image 19: Tron Ares HedTrump Just Silenced the Internet’s Alpha Bros Over Iran 6/22/2025, 9:07 am Image 20: An animated GIF showing the difference between a photoshopped image of Donald Trump in 2018 and the real image.This Bluetooth Waterproof Speaker by Anker Is Practically Free on Amazon, and It’s No Joke 6/22/2025, 8:35 am Image 21: Soundcore Select 4 Go Bluetooth Shower Speaker\", \"raw_content\": null}, {\"url\": \"https://techcrunch.com/2025/06/22/linkedin-ceo-says-ai-writing-assistant-is-not-as-popular-as-expected/\", \"title\": \"LinkedIn CEO says AI writing assistant is not as popular as expected - TechCrunch\", \"score\": 0.47314653, \"published_date\": \"Sun, 22 Jun 2025 14:06:40 GMT\", \"content\": \"### More from TechCrunch While LinkedIn users seem to have embraced AI, there’s one area that’s seen less uptake than expected, according to CEO Ryan Roslansky: AI-generated suggestions for polishing your LinkedIn posts. When asked why, he argued that the “barrier is much higher” to posting on LinkedIn, because “this is your resume online.” Plus, users can face real backlash if they post something that’s too obviously generated by AI. At the same time, Roslansky noted that the professional social network has seen a 6x increase in jobs requiring AI-related skills over the past year, while the number of users adding AI skills to their profiles is up 20x. ##### TechCrunch AI TechCrunch's AI experts cover the latest news in the fast-moving field. ##### TechCrunch Space TechCrunch Logo\", \"raw_content\": null}], \"response_time\": 0.32}\n",
      "=================================\u001b[1m Tool Message \u001b[0m=================================\n",
      "Name: multiply\n",
      "\n",
      "6\n",
      "==================================\u001b[1m Ai Message \u001b[0m==================================\n",
      "\n",
      "So, the recent AI news is about Google's new AI mode for search, LinkedIn's AI writing assistant not being as popular as expected, and other topics. And, the result of multiplying 2 and 3 is 6.\n"
     ]
    }
   ],
   "source": [
    "response=graph.invoke({\"messages\":\"Give me the recent ai news also What is 2 multiplyed by 3\"})\n",
    "for m in response[\"messages\"]:\n",
    "    m.pretty_print()"
   ]
  },
  {
   "cell_type": "markdown",
   "id": "bcbbccdb",
   "metadata": {},
   "source": [
    "### Adding Mmeory Graph in Agent Graph"
   ]
  },
  {
   "cell_type": "code",
   "execution_count": 152,
   "id": "1c2b039f",
   "metadata": {},
   "outputs": [
    {
     "name": "stdout",
     "output_type": "stream",
     "text": [
      "================================\u001b[1m Human Message \u001b[0m=================================\n",
      "\n",
      "Hello,what is my name\n",
      "==================================\u001b[1m Ai Message \u001b[0m==================================\n",
      "Tool Calls:\n",
      "  multiply (9wp324mvb)\n",
      " Call ID: 9wp324mvb\n",
      "  Args:\n",
      "    a: 0\n",
      "    b: 0\n",
      "=================================\u001b[1m Tool Message \u001b[0m=================================\n",
      "Name: multiply\n",
      "\n",
      "0\n",
      "==================================\u001b[1m Ai Message \u001b[0m==================================\n",
      "\n",
      "I apologize, but it seems that the tool call did not provide any relevant information. As the conversation is starting, I don't have any information about your name. I can try to ask for more context or clarify the question. Can you please provide more details about what you mean by \"what is my name\"? Are you referring to your username, a nickname, or something else?\n"
     ]
    }
   ],
   "source": [
    "response=graph.invoke({\"messages\":\"Hello,what is my name\"})\n",
    "for m in response[\"messages\"]:\n",
    "    m.pretty_print()"
   ]
  },
  {
   "cell_type": "code",
   "execution_count": 116,
   "id": "63d434a1",
   "metadata": {},
   "outputs": [
    {
     "name": "stdout",
     "output_type": "stream",
     "text": [
      "================================\u001b[1m Human Message \u001b[0m=================================\n",
      "\n",
      "My Name is Umar\n",
      "==================================\u001b[1m Ai Message \u001b[0m==================================\n",
      "\n",
      "Nice to meet you, Umar!\n"
     ]
    }
   ],
   "source": [
    "response=graph.invoke({\"messages\":\"My Name is Umar\"})\n",
    "for m in response[\"messages\"]:\n",
    "    m.pretty_print()"
   ]
  },
  {
   "cell_type": "code",
   "execution_count": 117,
   "id": "1ac1268a",
   "metadata": {},
   "outputs": [
    {
     "name": "stdout",
     "output_type": "stream",
     "text": [
      "================================\u001b[1m Human Message \u001b[0m=================================\n",
      "\n",
      "Hello,what is my name\n",
      "==================================\u001b[1m Ai Message \u001b[0m==================================\n",
      "\n",
      "I'm happy to help! However, I don't have any information about your name. Could you please provide me with more context or details so I can better assist you?\n"
     ]
    }
   ],
   "source": [
    "response=graph.invoke({\"messages\":\"Hello,what is my name\"})\n",
    "for m in response[\"messages\"]:\n",
    "    m.pretty_print()"
   ]
  },
  {
   "cell_type": "code",
   "execution_count": 163,
   "id": "5b519be0",
   "metadata": {},
   "outputs": [
    {
     "data": {
      "image/png": "[encoded data removed]",
      "text/plain": [
       "<IPython.core.display.Image object>"
      ]
     },
     "metadata": {},
     "output_type": "display_data"
    }
   ],
   "source": [
    "####--------> FORGETTING NAMES/PREVIOUS CHATS\n",
    "\n",
    "from langgraph.checkpoint.memory import MemorySaver\n",
    "from langgraph.prebuilt import tools_condition\n",
    "\n",
    "memory = MemorySaver()\n",
    "\n",
    "#Node Definitoin \n",
    "def tool_calling_llm(state:State):\n",
    "    return {\"messages\":[llm_with_tool.invoke(state[\"messages\"])]}\n",
    "\n",
    "builder = StateGraph(State)\n",
    "builder.add_node(\"tool_calling_llms\",tool_calling_llm)\n",
    "builder.add_node(\"tools\",ToolNode(tools))\n",
    "builder.add_edge(START,\"tool_calling_llms\")\n",
    "\n",
    "builder.add_conditional_edges(\n",
    "    \"tool_calling_llms\",\n",
    "    tools_condition\n",
    ")\n",
    "builder.add_edge(\"tools\",\"tool_calling_llms\")\n",
    "graph=builder.compile(checkpointer=memory) ###--> Adding Memory of the previous interaction. \n",
    "## Compile The Graph\n",
    "\n",
    "###---> Visualizing The Graph\n",
    "from IPython.display import Image,display\n",
    "try:\n",
    "    display(Image(graph.get_graph().draw_mermaid_png()))\n",
    "except Exception:\n",
    "    pass\n",
    "\n",
    "\n"
   ]
  },
  {
   "cell_type": "code",
   "execution_count": 164,
   "id": "ee493755",
   "metadata": {},
   "outputs": [
    {
     "data": {
      "text/plain": [
       "{'messages': [HumanMessage(content='Hi my name is Umar', additional_kwargs={}, response_metadata={}, id='0a2dc1d8-a421-4e21-91ae-082e4d64f99a'),\n",
       "  AIMessage(content=\"Nice to meet you, Umar! What's on your mind today? Do you have a question or topic you'd like to discuss?\", additional_kwargs={}, response_metadata={'token_usage': {'completion_tokens': 29, 'prompt_tokens': 2194, 'total_tokens': 2223, 'completion_time': 0.041357053, 'prompt_time': 0.244619418, 'queue_time': 0.06955125300000001, 'total_time': 0.285976471}, 'model_name': 'llama3-8b-8192', 'system_fingerprint': 'fp_8b7c3a83f7', 'finish_reason': 'stop', 'logprobs': None}, id='run--fbdae2ca-e156-43f8-829a-61207e7b06ec-0', usage_metadata={'input_tokens': 2194, 'output_tokens': 29, 'total_tokens': 2223})]}"
      ]
     },
     "execution_count": 164,
     "metadata": {},
     "output_type": "execute_result"
    }
   ],
   "source": [
    "config = {\"configurable\":{\"thread_id\":\"1\"}} # --------> \"1\" should be unique,numbers \n",
    "response = graph.invoke({\"messages\":\"Hi my name is Umar\"},config=config)\n",
    "response\n",
    "\n"
   ]
  },
  {
   "cell_type": "code",
   "execution_count": 160,
   "id": "7f50059a",
   "metadata": {},
   "outputs": [
    {
     "data": {
      "text/plain": [
       "'Nice to meet you, Umar! What brings you here today?'"
      ]
     },
     "execution_count": 160,
     "metadata": {},
     "output_type": "execute_result"
    }
   ],
   "source": [
    "response['messages'][-1].content"
   ]
  },
  {
   "cell_type": "code",
   "execution_count": 165,
   "id": "0973df20",
   "metadata": {},
   "outputs": [
    {
     "data": {
      "text/plain": [
       "{'messages': [HumanMessage(content='Hi my name is Umar', additional_kwargs={}, response_metadata={}, id='0a2dc1d8-a421-4e21-91ae-082e4d64f99a'),\n",
       "  AIMessage(content=\"Nice to meet you, Umar! What's on your mind today? Do you have a question or topic you'd like to discuss?\", additional_kwargs={}, response_metadata={'token_usage': {'completion_tokens': 29, 'prompt_tokens': 2194, 'total_tokens': 2223, 'completion_time': 0.041357053, 'prompt_time': 0.244619418, 'queue_time': 0.06955125300000001, 'total_time': 0.285976471}, 'model_name': 'llama3-8b-8192', 'system_fingerprint': 'fp_8b7c3a83f7', 'finish_reason': 'stop', 'logprobs': None}, id='run--fbdae2ca-e156-43f8-829a-61207e7b06ec-0', usage_metadata={'input_tokens': 2194, 'output_tokens': 29, 'total_tokens': 2223}),\n",
       "  HumanMessage(content='What is my name', additional_kwargs={}, response_metadata={}, id='d34dabb8-6610-4fd5-b7b7-1cd694ead832'),\n",
       "  AIMessage(content='Your name is Umar.', additional_kwargs={}, response_metadata={'token_usage': {'completion_tokens': 7, 'prompt_tokens': 2236, 'total_tokens': 2243, 'completion_time': 0.01128612, 'prompt_time': 0.249836401, 'queue_time': 0.06941514099999999, 'total_time': 0.261122521}, 'model_name': 'llama3-8b-8192', 'system_fingerprint': 'fp_8b7c3a83f7', 'finish_reason': 'stop', 'logprobs': None}, id='run--997aef25-d2d9-41c0-ae3e-1d5dc69e5147-0', usage_metadata={'input_tokens': 2236, 'output_tokens': 7, 'total_tokens': 2243})]}"
      ]
     },
     "execution_count": 165,
     "metadata": {},
     "output_type": "execute_result"
    }
   ],
   "source": [
    "response = graph.invoke({\"messages\":\"What is my name\"},config=config)\n",
    "response\n"
   ]
  },
  {
   "cell_type": "code",
   "execution_count": 166,
   "id": "59950989",
   "metadata": {},
   "outputs": [
    {
     "data": {
      "text/plain": [
       "'Your name is Umar.'"
      ]
     },
     "execution_count": 166,
     "metadata": {},
     "output_type": "execute_result"
    }
   ],
   "source": [
    "response['messages'][-1].content"
   ]
  },
  {
   "cell_type": "markdown",
   "id": "a11d8e9b",
   "metadata": {},
   "source": [
    "### Streaming"
   ]
  },
  {
   "cell_type": "code",
   "execution_count": 167,
   "id": "ed269549",
   "metadata": {},
   "outputs": [],
   "source": [
    "from langgraph.checkpoint.memory import MemorySaver\n",
    "memory = MemorySaver()"
   ]
  },
  {
   "cell_type": "code",
   "execution_count": 168,
   "id": "b678990c",
   "metadata": {},
   "outputs": [],
   "source": [
    "#Node Functionality\n",
    "def superbot(state:State):\n",
    "    return {\"messages\":[llm.invoke(state[\"messages\"])]} ###---> Statemessages is basically the input. It will also append in the class state"
   ]
  },
  {
   "cell_type": "code",
   "execution_count": 171,
   "id": "b8e4ed47",
   "metadata": {},
   "outputs": [
    {
     "data": {
      "image/png": "[encoded data removed]",
      "text/plain": [
       "<IPython.core.display.Image object>"
      ]
     },
     "metadata": {},
     "output_type": "display_data"
    }
   ],
   "source": [
    "\n",
    "builder = StateGraph(State)\n",
    "builder.add_node(\"SuperBot\",superbot)\n",
    "\n",
    "builder.add_edge(START,\"SuperBot\")\n",
    "builder.add_edge(\"SuperBot\",END)\n",
    "\n",
    "## Compile The Graph\n",
    "graph_builder=builder.compile(checkpointer=memory) ###--> Adding Memory of the previous interaction. \n",
    "\n",
    "###---> Visualizing The Graph\n",
    "from IPython.display import Image,display\n",
    "try:\n",
    "    display(Image(graph_builder.get_graph().draw_mermaid_png()))\n",
    "except Exception:\n",
    "    pass\n",
    "\n",
    "\n"
   ]
  },
  {
   "cell_type": "code",
   "execution_count": 178,
   "id": "cd0d20d1",
   "metadata": {},
   "outputs": [
    {
     "name": "stdout",
     "output_type": "stream",
     "text": [
      "{'SuperBot': {'messages': [AIMessage(content='Nice to meet you, Krish!', additional_kwargs={}, response_metadata={'token_usage': {'completion_tokens': 8, 'prompt_tokens': 88, 'total_tokens': 96, 'completion_time': 0.012349057, 'prompt_time': 0.011912476, 'queue_time': 0.06865727699999999, 'total_time': 0.024261533}, 'model_name': 'llama3-8b-8192', 'system_fingerprint': 'fp_8b7c3a83f7', 'finish_reason': 'stop', 'logprobs': None}, id='run--6d932f07-f203-400c-9975-36622a303e56-0', usage_metadata={'input_tokens': 88, 'output_tokens': 8, 'total_tokens': 96})]}}\n"
     ]
    }
   ],
   "source": [
    "#\n",
    "config = {\"configurable\":{\"thread_id\":\"1\"}}\n",
    "for chunk in graph_builder.stream({\"messages\":\"Hi,my name is Krish\"},config=config,stream_mode=\"updates\"):\n",
    "    print(chunk) #----------> ONLY OUTPUT"
   ]
  },
  {
   "cell_type": "code",
   "execution_count": 179,
   "id": "c6fbfc81",
   "metadata": {},
   "outputs": [
    {
     "name": "stdout",
     "output_type": "stream",
     "text": [
      "{'messages': [HumanMessage(content='Hi,my name is Krish', additional_kwargs={}, response_metadata={}, id='dffc8be5-f5a0-477a-aa9c-f800a9dcd464'), AIMessage(content=\"Nice to meet you, Krish! I'm your AI chat partner. It's great to have you here. What brings you to this conversation today? Do you have something specific on your mind that you'd like to talk about, or are you just looking for some casual chat?\", additional_kwargs={}, response_metadata={'token_usage': {'completion_tokens': 57, 'prompt_tokens': 16, 'total_tokens': 73, 'completion_time': 0.108799629, 'prompt_time': 0.00885704, 'queue_time': 4.681051368, 'total_time': 0.117656669}, 'model_name': 'llama3-8b-8192', 'system_fingerprint': 'fp_8af39bf2ae', 'finish_reason': 'stop', 'logprobs': None}, id='run--d6d737f6-0eeb-449c-9fe4-b039073f62d9-0', usage_metadata={'input_tokens': 16, 'output_tokens': 57, 'total_tokens': 73}), HumanMessage(content='Hi,my name is Krish', additional_kwargs={}, response_metadata={}, id='aaf093d9-8c16-4e3a-94f3-274502cbf6c8'), AIMessage(content='Nice to meet you, Krish!', additional_kwargs={}, response_metadata={'token_usage': {'completion_tokens': 8, 'prompt_tokens': 88, 'total_tokens': 96, 'completion_time': 0.012349057, 'prompt_time': 0.011912476, 'queue_time': 0.06865727699999999, 'total_time': 0.024261533}, 'model_name': 'llama3-8b-8192', 'system_fingerprint': 'fp_8b7c3a83f7', 'finish_reason': 'stop', 'logprobs': None}, id='run--6d932f07-f203-400c-9975-36622a303e56-0', usage_metadata={'input_tokens': 88, 'output_tokens': 8, 'total_tokens': 96}), HumanMessage(content='Hi,my name is Krish', additional_kwargs={}, response_metadata={}, id='4f315843-fb39-4b81-9d51-8ad945074de1')]}\n",
      "{'messages': [HumanMessage(content='Hi,my name is Krish', additional_kwargs={}, response_metadata={}, id='dffc8be5-f5a0-477a-aa9c-f800a9dcd464'), AIMessage(content=\"Nice to meet you, Krish! I'm your AI chat partner. It's great to have you here. What brings you to this conversation today? Do you have something specific on your mind that you'd like to talk about, or are you just looking for some casual chat?\", additional_kwargs={}, response_metadata={'token_usage': {'completion_tokens': 57, 'prompt_tokens': 16, 'total_tokens': 73, 'completion_time': 0.108799629, 'prompt_time': 0.00885704, 'queue_time': 4.681051368, 'total_time': 0.117656669}, 'model_name': 'llama3-8b-8192', 'system_fingerprint': 'fp_8af39bf2ae', 'finish_reason': 'stop', 'logprobs': None}, id='run--d6d737f6-0eeb-449c-9fe4-b039073f62d9-0', usage_metadata={'input_tokens': 16, 'output_tokens': 57, 'total_tokens': 73}), HumanMessage(content='Hi,my name is Krish', additional_kwargs={}, response_metadata={}, id='aaf093d9-8c16-4e3a-94f3-274502cbf6c8'), AIMessage(content='Nice to meet you, Krish!', additional_kwargs={}, response_metadata={'token_usage': {'completion_tokens': 8, 'prompt_tokens': 88, 'total_tokens': 96, 'completion_time': 0.012349057, 'prompt_time': 0.011912476, 'queue_time': 0.06865727699999999, 'total_time': 0.024261533}, 'model_name': 'llama3-8b-8192', 'system_fingerprint': 'fp_8b7c3a83f7', 'finish_reason': 'stop', 'logprobs': None}, id='run--6d932f07-f203-400c-9975-36622a303e56-0', usage_metadata={'input_tokens': 88, 'output_tokens': 8, 'total_tokens': 96}), HumanMessage(content='Hi,my name is Krish', additional_kwargs={}, response_metadata={}, id='4f315843-fb39-4b81-9d51-8ad945074de1'), AIMessage(content=\"Krish! We're having a bit of a repetition there, aren't we? Don't worry, I'm not getting tired of hearing your name! How about we start fresh and get to know each other a bit better? What do you like to do, or what are you interested in? I'm all ears!\", additional_kwargs={}, response_metadata={'token_usage': {'completion_tokens': 66, 'prompt_tokens': 111, 'total_tokens': 177, 'completion_time': 0.094110387, 'prompt_time': 0.01398034, 'queue_time': 0.06810106399999999, 'total_time': 0.108090727}, 'model_name': 'llama3-8b-8192', 'system_fingerprint': 'fp_8b7c3a83f7', 'finish_reason': 'stop', 'logprobs': None}, id='run--c7ab709c-5d62-456b-a88f-12eecc066844-0', usage_metadata={'input_tokens': 111, 'output_tokens': 66, 'total_tokens': 177})]}\n"
     ]
    }
   ],
   "source": [
    "for chunk in graph_builder.stream({\"messages\":\"Hi,my name is Krish\"},config=config,stream_mode=\"values\"):\n",
    "    print(chunk) #####--------> Everything is displayed"
   ]
  },
  {
   "cell_type": "code",
   "execution_count": 186,
   "id": "716eb299",
   "metadata": {},
   "outputs": [
    {
     "name": "stdout",
     "output_type": "stream",
     "text": [
      "{'SuperBot': {'messages': [AIMessage(content=\"Nice to meet you, Krish! It's great to have you here. Is there something you'd like to talk about or ask? I'm all ears!\", additional_kwargs={}, response_metadata={'token_usage': {'completion_tokens': 33, 'prompt_tokens': 16, 'total_tokens': 49, 'completion_time': 0.046491831, 'prompt_time': 0.003916723, 'queue_time': 0.068637618, 'total_time': 0.050408554}, 'model_name': 'llama3-8b-8192', 'system_fingerprint': 'fp_8b7c3a83f7', 'finish_reason': 'stop', 'logprobs': None}, id='run--83018baa-595e-4804-94d4-7be0e391e0bd-0', usage_metadata={'input_tokens': 16, 'output_tokens': 33, 'total_tokens': 49})]}}\n"
     ]
    }
   ],
   "source": [
    "#\n",
    "config = {\"configurable\":{\"thread_id\":\"5\"}}\n",
    "for chunk in graph_builder.stream({\"messages\":\"Hi,my name is Krish\"},config=config,stream_mode=\"updates\"):\n",
    "    print(chunk) #----------> ONLY OUTPUT\n"
   ]
  },
  {
   "cell_type": "code",
   "execution_count": 187,
   "id": "585d2d34",
   "metadata": {},
   "outputs": [
    {
     "name": "stdout",
     "output_type": "stream",
     "text": [
      "{'messages': [HumanMessage(content='Hi,my name is Krish', additional_kwargs={}, response_metadata={}, id='0da5b8f6-4a56-4c4b-a5ae-f1182590d151'), AIMessage(content=\"Nice to meet you, Krish! It's great to have you here. Is there something you'd like to talk about or ask? I'm all ears!\", additional_kwargs={}, response_metadata={'token_usage': {'completion_tokens': 33, 'prompt_tokens': 16, 'total_tokens': 49, 'completion_time': 0.046491831, 'prompt_time': 0.003916723, 'queue_time': 0.068637618, 'total_time': 0.050408554}, 'model_name': 'llama3-8b-8192', 'system_fingerprint': 'fp_8b7c3a83f7', 'finish_reason': 'stop', 'logprobs': None}, id='run--83018baa-595e-4804-94d4-7be0e391e0bd-0', usage_metadata={'input_tokens': 16, 'output_tokens': 33, 'total_tokens': 49}), HumanMessage(content='I also like football', additional_kwargs={}, response_metadata={}, id='6155d873-4a6e-4071-97a1-1c9d655f4519')]}\n",
      "{'messages': [HumanMessage(content='Hi,my name is Krish', additional_kwargs={}, response_metadata={}, id='0da5b8f6-4a56-4c4b-a5ae-f1182590d151'), AIMessage(content=\"Nice to meet you, Krish! It's great to have you here. Is there something you'd like to talk about or ask? I'm all ears!\", additional_kwargs={}, response_metadata={'token_usage': {'completion_tokens': 33, 'prompt_tokens': 16, 'total_tokens': 49, 'completion_time': 0.046491831, 'prompt_time': 0.003916723, 'queue_time': 0.068637618, 'total_time': 0.050408554}, 'model_name': 'llama3-8b-8192', 'system_fingerprint': 'fp_8b7c3a83f7', 'finish_reason': 'stop', 'logprobs': None}, id='run--83018baa-595e-4804-94d4-7be0e391e0bd-0', usage_metadata={'input_tokens': 16, 'output_tokens': 33, 'total_tokens': 49}), HumanMessage(content='I also like football', additional_kwargs={}, response_metadata={}, id='6155d873-4a6e-4071-97a1-1c9d655f4519'), AIMessage(content=\"That's awesome, Krish! Football is a fantastic sport! Which team do you support? Do you have a favorite player or league that you follow closely?\", additional_kwargs={}, response_metadata={'token_usage': {'completion_tokens': 32, 'prompt_tokens': 62, 'total_tokens': 94, 'completion_time': 0.051171194, 'prompt_time': 0.009806712, 'queue_time': 0.06320182, 'total_time': 0.060977906}, 'model_name': 'llama3-8b-8192', 'system_fingerprint': 'fp_8dc6ecaf8e', 'finish_reason': 'stop', 'logprobs': None}, id='run--386c831d-867c-42c3-adab-34f6f117c706-0', usage_metadata={'input_tokens': 62, 'output_tokens': 32, 'total_tokens': 94})]}\n"
     ]
    }
   ],
   "source": [
    "for chunk in graph_builder.stream({\"messages\":\"I also like football\"},config=config,stream_mode=\"values\"):\n",
    "    print(chunk) #----------> ONLY OUTPUT\n"
   ]
  },
  {
   "cell_type": "code",
   "execution_count": 190,
   "id": "94bbaaab",
   "metadata": {},
   "outputs": [
    {
     "name": "stdout",
     "output_type": "stream",
     "text": [
      "{'event': 'on_chain_start', 'data': {'input': {'messages': 'Hi,my name is Krish'}}, 'name': 'LangGraph', 'tags': [], 'run_id': '5200dd8e-0cdd-452f-92d2-2a4839cb28a6', 'metadata': {'thread_id': '8'}, 'parent_ids': []}\n",
      "{'event': 'on_chain_start', 'data': {'input': {'messages': [HumanMessage(content='Hi,my name is Krish', additional_kwargs={}, response_metadata={}, id='572d9ad5-fe05-4f15-998b-7ae4a44e4b62')]}}, 'name': 'SuperBot', 'tags': ['graph:step:1'], 'run_id': 'a5faf486-137b-4fb4-a282-239c145e3d77', 'metadata': {'thread_id': '8', 'langgraph_step': 1, 'langgraph_node': 'SuperBot', 'langgraph_triggers': ('branch:to:SuperBot',), 'langgraph_path': ('__pregel_pull', 'SuperBot'), 'langgraph_checkpoint_ns': 'SuperBot:40e4e832-d2f7-23f6-0eb5-9d787b97cdda'}, 'parent_ids': ['5200dd8e-0cdd-452f-92d2-2a4839cb28a6']}\n",
      "{'event': 'on_chat_model_start', 'data': {'input': {'messages': [[HumanMessage(content='Hi,my name is Krish', additional_kwargs={}, response_metadata={}, id='572d9ad5-fe05-4f15-998b-7ae4a44e4b62')]]}}, 'name': 'ChatGroq', 'tags': ['seq:step:1'], 'run_id': 'b2683127-a611-41b4-b02d-be1f341e617a', 'metadata': {'thread_id': '8', 'langgraph_step': 1, 'langgraph_node': 'SuperBot', 'langgraph_triggers': ('branch:to:SuperBot',), 'langgraph_path': ('__pregel_pull', 'SuperBot'), 'langgraph_checkpoint_ns': 'SuperBot:40e4e832-d2f7-23f6-0eb5-9d787b97cdda', 'checkpoint_ns': 'SuperBot:40e4e832-d2f7-23f6-0eb5-9d787b97cdda', 'ls_provider': 'groq', 'ls_model_name': 'llama3-8b-8192', 'ls_model_type': 'chat', 'ls_temperature': 0.7}, 'parent_ids': ['5200dd8e-0cdd-452f-92d2-2a4839cb28a6', 'a5faf486-137b-4fb4-a282-239c145e3d77']}\n",
      "{'event': 'on_chat_model_stream', 'data': {'chunk': AIMessageChunk(content='', additional_kwargs={}, response_metadata={}, id='run--b2683127-a611-41b4-b02d-be1f341e617a')}, 'run_id': 'b2683127-a611-41b4-b02d-be1f341e617a', 'name': 'ChatGroq', 'tags': ['seq:step:1'], 'metadata': {'thread_id': '8', 'langgraph_step': 1, 'langgraph_node': 'SuperBot', 'langgraph_triggers': ('branch:to:SuperBot',), 'langgraph_path': ('__pregel_pull', 'SuperBot'), 'langgraph_checkpoint_ns': 'SuperBot:40e4e832-d2f7-23f6-0eb5-9d787b97cdda', 'checkpoint_ns': 'SuperBot:40e4e832-d2f7-23f6-0eb5-9d787b97cdda', 'ls_provider': 'groq', 'ls_model_name': 'llama3-8b-8192', 'ls_model_type': 'chat', 'ls_temperature': 0.7}, 'parent_ids': ['5200dd8e-0cdd-452f-92d2-2a4839cb28a6', 'a5faf486-137b-4fb4-a282-239c145e3d77']}\n",
      "{'event': 'on_chat_model_stream', 'data': {'chunk': AIMessageChunk(content='Nice', additional_kwargs={}, response_metadata={}, id='run--b2683127-a611-41b4-b02d-be1f341e617a')}, 'run_id': 'b2683127-a611-41b4-b02d-be1f341e617a', 'name': 'ChatGroq', 'tags': ['seq:step:1'], 'metadata': {'thread_id': '8', 'langgraph_step': 1, 'langgraph_node': 'SuperBot', 'langgraph_triggers': ('branch:to:SuperBot',), 'langgraph_path': ('__pregel_pull', 'SuperBot'), 'langgraph_checkpoint_ns': 'SuperBot:40e4e832-d2f7-23f6-0eb5-9d787b97cdda', 'checkpoint_ns': 'SuperBot:40e4e832-d2f7-23f6-0eb5-9d787b97cdda', 'ls_provider': 'groq', 'ls_model_name': 'llama3-8b-8192', 'ls_model_type': 'chat', 'ls_temperature': 0.7}, 'parent_ids': ['5200dd8e-0cdd-452f-92d2-2a4839cb28a6', 'a5faf486-137b-4fb4-a282-239c145e3d77']}\n",
      "{'event': 'on_chat_model_stream', 'data': {'chunk': AIMessageChunk(content=' to', additional_kwargs={}, response_metadata={}, id='run--b2683127-a611-41b4-b02d-be1f341e617a')}, 'run_id': 'b2683127-a611-41b4-b02d-be1f341e617a', 'name': 'ChatGroq', 'tags': ['seq:step:1'], 'metadata': {'thread_id': '8', 'langgraph_step': 1, 'langgraph_node': 'SuperBot', 'langgraph_triggers': ('branch:to:SuperBot',), 'langgraph_path': ('__pregel_pull', 'SuperBot'), 'langgraph_checkpoint_ns': 'SuperBot:40e4e832-d2f7-23f6-0eb5-9d787b97cdda', 'checkpoint_ns': 'SuperBot:40e4e832-d2f7-23f6-0eb5-9d787b97cdda', 'ls_provider': 'groq', 'ls_model_name': 'llama3-8b-8192', 'ls_model_type': 'chat', 'ls_temperature': 0.7}, 'parent_ids': ['5200dd8e-0cdd-452f-92d2-2a4839cb28a6', 'a5faf486-137b-4fb4-a282-239c145e3d77']}\n",
      "{'event': 'on_chat_model_stream', 'data': {'chunk': AIMessageChunk(content=' meet', additional_kwargs={}, response_metadata={}, id='run--b2683127-a611-41b4-b02d-be1f341e617a')}, 'run_id': 'b2683127-a611-41b4-b02d-be1f341e617a', 'name': 'ChatGroq', 'tags': ['seq:step:1'], 'metadata': {'thread_id': '8', 'langgraph_step': 1, 'langgraph_node': 'SuperBot', 'langgraph_triggers': ('branch:to:SuperBot',), 'langgraph_path': ('__pregel_pull', 'SuperBot'), 'langgraph_checkpoint_ns': 'SuperBot:40e4e832-d2f7-23f6-0eb5-9d787b97cdda', 'checkpoint_ns': 'SuperBot:40e4e832-d2f7-23f6-0eb5-9d787b97cdda', 'ls_provider': 'groq', 'ls_model_name': 'llama3-8b-8192', 'ls_model_type': 'chat', 'ls_temperature': 0.7}, 'parent_ids': ['5200dd8e-0cdd-452f-92d2-2a4839cb28a6', 'a5faf486-137b-4fb4-a282-239c145e3d77']}\n",
      "{'event': 'on_chat_model_stream', 'data': {'chunk': AIMessageChunk(content=' you', additional_kwargs={}, response_metadata={}, id='run--b2683127-a611-41b4-b02d-be1f341e617a')}, 'run_id': 'b2683127-a611-41b4-b02d-be1f341e617a', 'name': 'ChatGroq', 'tags': ['seq:step:1'], 'metadata': {'thread_id': '8', 'langgraph_step': 1, 'langgraph_node': 'SuperBot', 'langgraph_triggers': ('branch:to:SuperBot',), 'langgraph_path': ('__pregel_pull', 'SuperBot'), 'langgraph_checkpoint_ns': 'SuperBot:40e4e832-d2f7-23f6-0eb5-9d787b97cdda', 'checkpoint_ns': 'SuperBot:40e4e832-d2f7-23f6-0eb5-9d787b97cdda', 'ls_provider': 'groq', 'ls_model_name': 'llama3-8b-8192', 'ls_model_type': 'chat', 'ls_temperature': 0.7}, 'parent_ids': ['5200dd8e-0cdd-452f-92d2-2a4839cb28a6', 'a5faf486-137b-4fb4-a282-239c145e3d77']}\n",
      "{'event': 'on_chat_model_stream', 'data': {'chunk': AIMessageChunk(content=',', additional_kwargs={}, response_metadata={}, id='run--b2683127-a611-41b4-b02d-be1f341e617a')}, 'run_id': 'b2683127-a611-41b4-b02d-be1f341e617a', 'name': 'ChatGroq', 'tags': ['seq:step:1'], 'metadata': {'thread_id': '8', 'langgraph_step': 1, 'langgraph_node': 'SuperBot', 'langgraph_triggers': ('branch:to:SuperBot',), 'langgraph_path': ('__pregel_pull', 'SuperBot'), 'langgraph_checkpoint_ns': 'SuperBot:40e4e832-d2f7-23f6-0eb5-9d787b97cdda', 'checkpoint_ns': 'SuperBot:40e4e832-d2f7-23f6-0eb5-9d787b97cdda', 'ls_provider': 'groq', 'ls_model_name': 'llama3-8b-8192', 'ls_model_type': 'chat', 'ls_temperature': 0.7}, 'parent_ids': ['5200dd8e-0cdd-452f-92d2-2a4839cb28a6', 'a5faf486-137b-4fb4-a282-239c145e3d77']}\n",
      "{'event': 'on_chat_model_stream', 'data': {'chunk': AIMessageChunk(content=' Krish', additional_kwargs={}, response_metadata={}, id='run--b2683127-a611-41b4-b02d-be1f341e617a')}, 'run_id': 'b2683127-a611-41b4-b02d-be1f341e617a', 'name': 'ChatGroq', 'tags': ['seq:step:1'], 'metadata': {'thread_id': '8', 'langgraph_step': 1, 'langgraph_node': 'SuperBot', 'langgraph_triggers': ('branch:to:SuperBot',), 'langgraph_path': ('__pregel_pull', 'SuperBot'), 'langgraph_checkpoint_ns': 'SuperBot:40e4e832-d2f7-23f6-0eb5-9d787b97cdda', 'checkpoint_ns': 'SuperBot:40e4e832-d2f7-23f6-0eb5-9d787b97cdda', 'ls_provider': 'groq', 'ls_model_name': 'llama3-8b-8192', 'ls_model_type': 'chat', 'ls_temperature': 0.7}, 'parent_ids': ['5200dd8e-0cdd-452f-92d2-2a4839cb28a6', 'a5faf486-137b-4fb4-a282-239c145e3d77']}\n",
      "{'event': 'on_chat_model_stream', 'data': {'chunk': AIMessageChunk(content='!', additional_kwargs={}, response_metadata={}, id='run--b2683127-a611-41b4-b02d-be1f341e617a')}, 'run_id': 'b2683127-a611-41b4-b02d-be1f341e617a', 'name': 'ChatGroq', 'tags': ['seq:step:1'], 'metadata': {'thread_id': '8', 'langgraph_step': 1, 'langgraph_node': 'SuperBot', 'langgraph_triggers': ('branch:to:SuperBot',), 'langgraph_path': ('__pregel_pull', 'SuperBot'), 'langgraph_checkpoint_ns': 'SuperBot:40e4e832-d2f7-23f6-0eb5-9d787b97cdda', 'checkpoint_ns': 'SuperBot:40e4e832-d2f7-23f6-0eb5-9d787b97cdda', 'ls_provider': 'groq', 'ls_model_name': 'llama3-8b-8192', 'ls_model_type': 'chat', 'ls_temperature': 0.7}, 'parent_ids': ['5200dd8e-0cdd-452f-92d2-2a4839cb28a6', 'a5faf486-137b-4fb4-a282-239c145e3d77']}\n",
      "{'event': 'on_chat_model_stream', 'data': {'chunk': AIMessageChunk(content='', additional_kwargs={}, response_metadata={'finish_reason': 'stop', 'model_name': 'llama3-8b-8192', 'system_fingerprint': 'fp_8b7c3a83f7'}, id='run--b2683127-a611-41b4-b02d-be1f341e617a', usage_metadata={'input_tokens': 16, 'output_tokens': 8, 'total_tokens': 24})}, 'run_id': 'b2683127-a611-41b4-b02d-be1f341e617a', 'name': 'ChatGroq', 'tags': ['seq:step:1'], 'metadata': {'thread_id': '8', 'langgraph_step': 1, 'langgraph_node': 'SuperBot', 'langgraph_triggers': ('branch:to:SuperBot',), 'langgraph_path': ('__pregel_pull', 'SuperBot'), 'langgraph_checkpoint_ns': 'SuperBot:40e4e832-d2f7-23f6-0eb5-9d787b97cdda', 'checkpoint_ns': 'SuperBot:40e4e832-d2f7-23f6-0eb5-9d787b97cdda', 'ls_provider': 'groq', 'ls_model_name': 'llama3-8b-8192', 'ls_model_type': 'chat', 'ls_temperature': 0.7}, 'parent_ids': ['5200dd8e-0cdd-452f-92d2-2a4839cb28a6', 'a5faf486-137b-4fb4-a282-239c145e3d77']}\n",
      "{'event': 'on_chat_model_end', 'data': {'output': AIMessage(content='Nice to meet you, Krish!', additional_kwargs={}, response_metadata={'finish_reason': 'stop', 'model_name': 'llama3-8b-8192', 'system_fingerprint': 'fp_8b7c3a83f7'}, id='run--b2683127-a611-41b4-b02d-be1f341e617a', usage_metadata={'input_tokens': 16, 'output_tokens': 8, 'total_tokens': 24}), 'input': {'messages': [[HumanMessage(content='Hi,my name is Krish', additional_kwargs={}, response_metadata={}, id='572d9ad5-fe05-4f15-998b-7ae4a44e4b62')]]}}, 'run_id': 'b2683127-a611-41b4-b02d-be1f341e617a', 'name': 'ChatGroq', 'tags': ['seq:step:1'], 'metadata': {'thread_id': '8', 'langgraph_step': 1, 'langgraph_node': 'SuperBot', 'langgraph_triggers': ('branch:to:SuperBot',), 'langgraph_path': ('__pregel_pull', 'SuperBot'), 'langgraph_checkpoint_ns': 'SuperBot:40e4e832-d2f7-23f6-0eb5-9d787b97cdda', 'checkpoint_ns': 'SuperBot:40e4e832-d2f7-23f6-0eb5-9d787b97cdda', 'ls_provider': 'groq', 'ls_model_name': 'llama3-8b-8192', 'ls_model_type': 'chat', 'ls_temperature': 0.7}, 'parent_ids': ['5200dd8e-0cdd-452f-92d2-2a4839cb28a6', 'a5faf486-137b-4fb4-a282-239c145e3d77']}\n",
      "{'event': 'on_chain_stream', 'run_id': 'a5faf486-137b-4fb4-a282-239c145e3d77', 'name': 'SuperBot', 'tags': ['graph:step:1'], 'metadata': {'thread_id': '8', 'langgraph_step': 1, 'langgraph_node': 'SuperBot', 'langgraph_triggers': ('branch:to:SuperBot',), 'langgraph_path': ('__pregel_pull', 'SuperBot'), 'langgraph_checkpoint_ns': 'SuperBot:40e4e832-d2f7-23f6-0eb5-9d787b97cdda'}, 'data': {'chunk': {'messages': [AIMessage(content='Nice to meet you, Krish!', additional_kwargs={}, response_metadata={'finish_reason': 'stop', 'model_name': 'llama3-8b-8192', 'system_fingerprint': 'fp_8b7c3a83f7'}, id='run--b2683127-a611-41b4-b02d-be1f341e617a', usage_metadata={'input_tokens': 16, 'output_tokens': 8, 'total_tokens': 24})]}}, 'parent_ids': ['5200dd8e-0cdd-452f-92d2-2a4839cb28a6']}\n",
      "{'event': 'on_chain_end', 'data': {'output': {'messages': [AIMessage(content='Nice to meet you, Krish!', additional_kwargs={}, response_metadata={'finish_reason': 'stop', 'model_name': 'llama3-8b-8192', 'system_fingerprint': 'fp_8b7c3a83f7'}, id='run--b2683127-a611-41b4-b02d-be1f341e617a', usage_metadata={'input_tokens': 16, 'output_tokens': 8, 'total_tokens': 24})]}, 'input': {'messages': [HumanMessage(content='Hi,my name is Krish', additional_kwargs={}, response_metadata={}, id='572d9ad5-fe05-4f15-998b-7ae4a44e4b62')]}}, 'run_id': 'a5faf486-137b-4fb4-a282-239c145e3d77', 'name': 'SuperBot', 'tags': ['graph:step:1'], 'metadata': {'thread_id': '8', 'langgraph_step': 1, 'langgraph_node': 'SuperBot', 'langgraph_triggers': ('branch:to:SuperBot',), 'langgraph_path': ('__pregel_pull', 'SuperBot'), 'langgraph_checkpoint_ns': 'SuperBot:40e4e832-d2f7-23f6-0eb5-9d787b97cdda'}, 'parent_ids': ['5200dd8e-0cdd-452f-92d2-2a4839cb28a6']}\n",
      "{'event': 'on_chain_stream', 'run_id': '5200dd8e-0cdd-452f-92d2-2a4839cb28a6', 'name': 'LangGraph', 'tags': [], 'metadata': {'thread_id': '8'}, 'data': {'chunk': {'SuperBot': {'messages': [AIMessage(content='Nice to meet you, Krish!', additional_kwargs={}, response_metadata={'finish_reason': 'stop', 'model_name': 'llama3-8b-8192', 'system_fingerprint': 'fp_8b7c3a83f7'}, id='run--b2683127-a611-41b4-b02d-be1f341e617a', usage_metadata={'input_tokens': 16, 'output_tokens': 8, 'total_tokens': 24})]}}}, 'parent_ids': []}\n",
      "{'event': 'on_chain_end', 'data': {'output': {'messages': [HumanMessage(content='Hi,my name is Krish', additional_kwargs={}, response_metadata={}, id='572d9ad5-fe05-4f15-998b-7ae4a44e4b62'), AIMessage(content='Nice to meet you, Krish!', additional_kwargs={}, response_metadata={'finish_reason': 'stop', 'model_name': 'llama3-8b-8192', 'system_fingerprint': 'fp_8b7c3a83f7'}, id='run--b2683127-a611-41b4-b02d-be1f341e617a', usage_metadata={'input_tokens': 16, 'output_tokens': 8, 'total_tokens': 24})]}}, 'run_id': '5200dd8e-0cdd-452f-92d2-2a4839cb28a6', 'name': 'LangGraph', 'tags': [], 'metadata': {'thread_id': '8'}, 'parent_ids': []}\n"
     ]
    }
   ],
   "source": [
    "#\n",
    "config = {\"configurable\":{\"thread_id\":\"8\"}}\n",
    "async for chunk in graph_builder.astream_events({\"messages\":\"Hi,my name is Krish\"},config=config,version=\"v2\"):\n",
    "    print(chunk) #----------> ONLY OUTPUT\n"
   ]
  }
 ],
 "metadata": {
  "kernelspec": {
   "display_name": ".venv",
   "language": "python",
   "name": "python3"
  },
  "language_info": {
   "codemirror_mode": {
    "name": "ipython",
    "version": 3
   },
   "file_extension": ".py",
   "mimetype": "text/x-python",
   "name": "python",
   "nbconvert_exporter": "python",
   "pygments_lexer": "ipython3",
   "version": "3.13.1"
  }
 },
 "nbformat": 4,
 "nbformat_minor": 5
}
